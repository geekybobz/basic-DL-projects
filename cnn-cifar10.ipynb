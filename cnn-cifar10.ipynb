{
 "cells": [
  {
   "cell_type": "code",
   "execution_count": 5,
   "id": "25243c70",
   "metadata": {},
   "outputs": [
    {
     "name": "stdout",
     "output_type": "stream",
     "text": [
      "Defaulting to user installation because normal site-packages is not writeable\n",
      "Requirement already satisfied: tensorflow in /home/billabobz/.local/lib/python3.10/site-packages (2.9.1)\n",
      "Requirement already satisfied: numpy>=1.20 in /home/billabobz/.local/lib/python3.10/site-packages (from tensorflow) (1.23.2)\n",
      "Requirement already satisfied: astunparse>=1.6.0 in /home/billabobz/.local/lib/python3.10/site-packages (from tensorflow) (1.6.3)\n",
      "Requirement already satisfied: setuptools in /usr/lib/python3/dist-packages (from tensorflow) (59.6.0)\n",
      "Requirement already satisfied: keras<2.10.0,>=2.9.0rc0 in /home/billabobz/.local/lib/python3.10/site-packages (from tensorflow) (2.9.0)\n",
      "Requirement already satisfied: tensorflow-estimator<2.10.0,>=2.9.0rc0 in /home/billabobz/.local/lib/python3.10/site-packages (from tensorflow) (2.9.0)\n",
      "Requirement already satisfied: flatbuffers<2,>=1.12 in /home/billabobz/.local/lib/python3.10/site-packages (from tensorflow) (1.12)\n",
      "Requirement already satisfied: google-pasta>=0.1.1 in /home/billabobz/.local/lib/python3.10/site-packages (from tensorflow) (0.2.0)\n",
      "Requirement already satisfied: wrapt>=1.11.0 in /home/billabobz/.local/lib/python3.10/site-packages (from tensorflow) (1.14.1)\n",
      "Requirement already satisfied: gast<=0.4.0,>=0.2.1 in /home/billabobz/.local/lib/python3.10/site-packages (from tensorflow) (0.4.0)\n",
      "Requirement already satisfied: typing-extensions>=3.6.6 in /home/billabobz/.local/lib/python3.10/site-packages (from tensorflow) (4.3.0)\n",
      "Requirement already satisfied: absl-py>=1.0.0 in /home/billabobz/.local/lib/python3.10/site-packages (from tensorflow) (1.2.0)\n",
      "Requirement already satisfied: libclang>=13.0.0 in /home/billabobz/.local/lib/python3.10/site-packages (from tensorflow) (14.0.6)\n",
      "Requirement already satisfied: tensorflow-io-gcs-filesystem>=0.23.1 in /home/billabobz/.local/lib/python3.10/site-packages (from tensorflow) (0.26.0)\n",
      "Requirement already satisfied: grpcio<2.0,>=1.24.3 in /home/billabobz/.local/lib/python3.10/site-packages (from tensorflow) (1.47.0)\n",
      "Requirement already satisfied: keras-preprocessing>=1.1.1 in /home/billabobz/.local/lib/python3.10/site-packages (from tensorflow) (1.1.2)\n",
      "Requirement already satisfied: opt-einsum>=2.3.2 in /home/billabobz/.local/lib/python3.10/site-packages (from tensorflow) (3.3.0)\n",
      "Requirement already satisfied: termcolor>=1.1.0 in /home/billabobz/.local/lib/python3.10/site-packages (from tensorflow) (1.1.0)\n",
      "Requirement already satisfied: protobuf<3.20,>=3.9.2 in /usr/lib/python3/dist-packages (from tensorflow) (3.12.4)\n",
      "Requirement already satisfied: six>=1.12.0 in /usr/lib/python3/dist-packages (from tensorflow) (1.16.0)\n",
      "Requirement already satisfied: h5py>=2.9.0 in /home/billabobz/.local/lib/python3.10/site-packages (from tensorflow) (3.7.0)\n",
      "Requirement already satisfied: packaging in /home/billabobz/.local/lib/python3.10/site-packages (from tensorflow) (21.3)\n",
      "Requirement already satisfied: tensorboard<2.10,>=2.9 in /home/billabobz/.local/lib/python3.10/site-packages (from tensorflow) (2.9.1)\n",
      "Requirement already satisfied: wheel<1.0,>=0.23.0 in /usr/lib/python3/dist-packages (from astunparse>=1.6.0->tensorflow) (0.37.1)\n",
      "Requirement already satisfied: werkzeug>=1.0.1 in /home/billabobz/.local/lib/python3.10/site-packages (from tensorboard<2.10,>=2.9->tensorflow) (2.2.2)\n",
      "Requirement already satisfied: markdown>=2.6.8 in /home/billabobz/.local/lib/python3.10/site-packages (from tensorboard<2.10,>=2.9->tensorflow) (3.4.1)\n",
      "Requirement already satisfied: tensorboard-plugin-wit>=1.6.0 in /home/billabobz/.local/lib/python3.10/site-packages (from tensorboard<2.10,>=2.9->tensorflow) (1.8.1)\n",
      "Requirement already satisfied: google-auth-oauthlib<0.5,>=0.4.1 in /home/billabobz/.local/lib/python3.10/site-packages (from tensorboard<2.10,>=2.9->tensorflow) (0.4.6)\n",
      "Requirement already satisfied: requests<3,>=2.21.0 in /usr/lib/python3/dist-packages (from tensorboard<2.10,>=2.9->tensorflow) (2.25.1)\n",
      "Requirement already satisfied: google-auth<3,>=1.6.3 in /home/billabobz/.local/lib/python3.10/site-packages (from tensorboard<2.10,>=2.9->tensorflow) (2.10.0)\n",
      "Requirement already satisfied: tensorboard-data-server<0.7.0,>=0.6.0 in /home/billabobz/.local/lib/python3.10/site-packages (from tensorboard<2.10,>=2.9->tensorflow) (0.6.1)\n",
      "Requirement already satisfied: pyparsing!=3.0.5,>=2.0.2 in /usr/lib/python3/dist-packages (from packaging->tensorflow) (2.4.7)\n",
      "Requirement already satisfied: rsa<5,>=3.1.4 in /home/billabobz/.local/lib/python3.10/site-packages (from google-auth<3,>=1.6.3->tensorboard<2.10,>=2.9->tensorflow) (4.9)\n",
      "Requirement already satisfied: pyasn1-modules>=0.2.1 in /home/billabobz/.local/lib/python3.10/site-packages (from google-auth<3,>=1.6.3->tensorboard<2.10,>=2.9->tensorflow) (0.2.8)\n",
      "Requirement already satisfied: cachetools<6.0,>=2.0.0 in /home/billabobz/.local/lib/python3.10/site-packages (from google-auth<3,>=1.6.3->tensorboard<2.10,>=2.9->tensorflow) (5.2.0)\n",
      "Requirement already satisfied: requests-oauthlib>=0.7.0 in /home/billabobz/.local/lib/python3.10/site-packages (from google-auth-oauthlib<0.5,>=0.4.1->tensorboard<2.10,>=2.9->tensorflow) (1.3.1)\n",
      "Requirement already satisfied: MarkupSafe>=2.1.1 in /home/billabobz/.local/lib/python3.10/site-packages (from werkzeug>=1.0.1->tensorboard<2.10,>=2.9->tensorflow) (2.1.1)\n",
      "Requirement already satisfied: pyasn1<0.5.0,>=0.4.6 in /home/billabobz/.local/lib/python3.10/site-packages (from pyasn1-modules>=0.2.1->google-auth<3,>=1.6.3->tensorboard<2.10,>=2.9->tensorflow) (0.4.8)\n",
      "Requirement already satisfied: oauthlib>=3.0.0 in /usr/lib/python3/dist-packages (from requests-oauthlib>=0.7.0->google-auth-oauthlib<0.5,>=0.4.1->tensorboard<2.10,>=2.9->tensorflow) (3.2.0)\n",
      "Defaulting to user installation because normal site-packages is not writeable\n",
      "Requirement already satisfied: numpy in /home/billabobz/.local/lib/python3.10/site-packages (1.23.2)\n",
      "Defaulting to user installation because normal site-packages is not writeable\n",
      "Requirement already satisfied: pandas in /home/billabobz/.local/lib/python3.10/site-packages (1.4.3)\n",
      "Requirement already satisfied: python-dateutil>=2.8.1 in /home/billabobz/.local/lib/python3.10/site-packages (from pandas) (2.8.2)\n",
      "Requirement already satisfied: pytz>=2020.1 in /usr/lib/python3/dist-packages (from pandas) (2022.1)\n",
      "Requirement already satisfied: numpy>=1.21.0 in /home/billabobz/.local/lib/python3.10/site-packages (from pandas) (1.23.2)\n",
      "Requirement already satisfied: six>=1.5 in /usr/lib/python3/dist-packages (from python-dateutil>=2.8.1->pandas) (1.16.0)\n",
      "Defaulting to user installation because normal site-packages is not writeable\n",
      "Collecting matplotlib\n",
      "  Downloading matplotlib-3.5.3-cp310-cp310-manylinux_2_17_x86_64.manylinux2014_x86_64.whl (11.9 MB)\n",
      "\u001b[2K     \u001b[38;2;114;156;31m━━━━━━━━━━━━━━━━━━━━━━━━━━━━━━━━━━━━━━━\u001b[0m \u001b[32m11.9/11.9 MB\u001b[0m \u001b[31m706.6 kB/s\u001b[0m eta \u001b[36m0:00:00\u001b[0mm eta \u001b[36m0:00:01\u001b[0m[36m0:00:01\u001b[0m\n",
      "\u001b[?25hRequirement already satisfied: pyparsing>=2.2.1 in /usr/lib/python3/dist-packages (from matplotlib) (2.4.7)\n",
      "Requirement already satisfied: pillow>=6.2.0 in /usr/lib/python3/dist-packages (from matplotlib) (9.0.1)\n",
      "Requirement already satisfied: python-dateutil>=2.7 in /home/billabobz/.local/lib/python3.10/site-packages (from matplotlib) (2.8.2)\n",
      "Requirement already satisfied: numpy>=1.17 in /home/billabobz/.local/lib/python3.10/site-packages (from matplotlib) (1.23.2)\n",
      "Collecting fonttools>=4.22.0\n",
      "  Downloading fonttools-4.36.0-py3-none-any.whl (950 kB)\n",
      "\u001b[2K     \u001b[38;2;114;156;31m━━━━━━━━━━━━━━━━━━━━━━━━━━━━━━━━━━━━━\u001b[0m \u001b[32m950.4/950.4 kB\u001b[0m \u001b[31m931.0 kB/s\u001b[0m eta \u001b[36m0:00:00\u001b[0m kB/s\u001b[0m eta \u001b[36m0:00:01\u001b[0m:01\u001b[0m\n",
      "\u001b[?25hRequirement already satisfied: packaging>=20.0 in /home/billabobz/.local/lib/python3.10/site-packages (from matplotlib) (21.3)\n",
      "Collecting kiwisolver>=1.0.1\n",
      "  Downloading kiwisolver-1.4.4-cp310-cp310-manylinux_2_12_x86_64.manylinux2010_x86_64.whl (1.6 MB)\n",
      "\u001b[2K     \u001b[38;2;114;156;31m━━━━━━━━━━━━━━━━━━━━━━━━━━━━━━━━━━━━━━━━\u001b[0m \u001b[32m1.6/1.6 MB\u001b[0m \u001b[31m727.8 kB/s\u001b[0m eta \u001b[36m0:00:00\u001b[0m kB/s\u001b[0m eta \u001b[36m0:00:01\u001b[0m:01\u001b[0m\n",
      "\u001b[?25hCollecting cycler>=0.10\n",
      "  Downloading cycler-0.11.0-py3-none-any.whl (6.4 kB)\n",
      "Requirement already satisfied: six>=1.5 in /usr/lib/python3/dist-packages (from python-dateutil>=2.7->matplotlib) (1.16.0)\n"
     ]
    },
    {
     "name": "stdout",
     "output_type": "stream",
     "text": [
      "Installing collected packages: kiwisolver, fonttools, cycler, matplotlib\n",
      "Successfully installed cycler-0.11.0 fonttools-4.36.0 kiwisolver-1.4.4 matplotlib-3.5.3\n"
     ]
    }
   ],
   "source": [
    "!pip install tensorflow\n",
    "!pip install numpy\n",
    "!pip install pandas\n",
    "!pip install matplotlib"
   ]
  },
  {
   "cell_type": "code",
   "execution_count": 1,
   "id": "3ee6b92c",
   "metadata": {},
   "outputs": [
    {
     "name": "stderr",
     "output_type": "stream",
     "text": [
      "2022-08-19 11:25:29.851961: W tensorflow/stream_executor/platform/default/dso_loader.cc:64] Could not load dynamic library 'libcudart.so.11.0'; dlerror: libcudart.so.11.0: cannot open shared object file: No such file or directory\n",
      "2022-08-19 11:25:29.851994: I tensorflow/stream_executor/cuda/cudart_stub.cc:29] Ignore above cudart dlerror if you do not have a GPU set up on your machine.\n"
     ]
    }
   ],
   "source": [
    "import numpy as np\n",
    "import tensorflow as tf\n",
    "from tensorflow import keras as kr\n",
    "import matplotlib.pyplot as plt\n",
    "%matplotlib inline\n"
   ]
  },
  {
   "cell_type": "code",
   "execution_count": 2,
   "id": "4f7337fe",
   "metadata": {},
   "outputs": [],
   "source": [
    "(X_train,Y_train),(X_test,Y_test)=kr.datasets.cifar10.load_data()"
   ]
  },
  {
   "cell_type": "code",
   "execution_count": 3,
   "id": "8a359996",
   "metadata": {},
   "outputs": [
    {
     "name": "stdout",
     "output_type": "stream",
     "text": [
      "(50000, 32, 32, 3)\n",
      "(10000, 32, 32, 3)\n"
     ]
    }
   ],
   "source": [
    "print(X_train.shape)\n",
    "print(X_test.shape)"
   ]
  },
  {
   "cell_type": "code",
   "execution_count": 4,
   "id": "9df5b8af",
   "metadata": {},
   "outputs": [],
   "source": [
    "Y_train=Y_train.reshape(-1,)\n",
    "Y_test=Y_test.reshape(-1,)"
   ]
  },
  {
   "cell_type": "code",
   "execution_count": 5,
   "id": "fed696d6",
   "metadata": {},
   "outputs": [],
   "source": [
    "classes=['plane','automobile','bird','cat','deer','dog','frog','horse','ship','truck']\n"
   ]
  },
  {
   "cell_type": "code",
   "execution_count": 6,
   "id": "555da1e2",
   "metadata": {},
   "outputs": [],
   "source": [
    "def imageshow(X,y,index):\n",
    "    plt.figure(figsize=(10,1))\n",
    "    plt.imshow(X[index])\n",
    "    plt.xlabel(classes[y[index]])"
   ]
  },
  {
   "cell_type": "code",
   "execution_count": 7,
   "id": "c7958187",
   "metadata": {},
   "outputs": [],
   "source": [
    "X_train=X_train/255\n",
    "X_test=X_test/255"
   ]
  },
  {
   "cell_type": "code",
   "execution_count": 8,
   "id": "d6e968a4",
   "metadata": {},
   "outputs": [
    {
     "data": {
      "text/plain": [
       "array([6, 9, 9, 4, 1, 1, 2, 7, 8, 3], dtype=uint8)"
      ]
     },
     "execution_count": 8,
     "metadata": {},
     "output_type": "execute_result"
    }
   ],
   "source": [
    "Y_train[:10]\n"
   ]
  },
  {
   "cell_type": "code",
   "execution_count": 9,
   "id": "af4923bc",
   "metadata": {},
   "outputs": [],
   "source": [
    "Y_cat=[]\n",
    "for i in range(len(Y_train)):\n",
    "    temp=[]\n",
    "    for ii in range(10):\n",
    "        if ii !=Y_train[i]:\n",
    "            temp.append(0)\n",
    "        elif ii==Y_train[i] :\n",
    "            temp.append(1)\n",
    "    Y_cat.append(temp)     "
   ]
  },
  {
   "cell_type": "code",
   "execution_count": 10,
   "id": "07cfaad8",
   "metadata": {},
   "outputs": [],
   "source": [
    "Y_cat=np.array(Y_cat)"
   ]
  },
  {
   "cell_type": "code",
   "execution_count": 11,
   "id": "5499074b",
   "metadata": {},
   "outputs": [
    {
     "data": {
      "text/plain": [
       "(50000, 10)"
      ]
     },
     "execution_count": 11,
     "metadata": {},
     "output_type": "execute_result"
    }
   ],
   "source": [
    "Y_cat.shape"
   ]
  },
  {
   "cell_type": "code",
   "execution_count": 12,
   "id": "cbbddd4c",
   "metadata": {},
   "outputs": [
    {
     "name": "stderr",
     "output_type": "stream",
     "text": [
      "2022-08-19 11:25:47.173319: W tensorflow/stream_executor/platform/default/dso_loader.cc:64] Could not load dynamic library 'libcuda.so.1'; dlerror: libcuda.so.1: cannot open shared object file: No such file or directory\n",
      "2022-08-19 11:25:47.173361: W tensorflow/stream_executor/cuda/cuda_driver.cc:269] failed call to cuInit: UNKNOWN ERROR (303)\n",
      "2022-08-19 11:25:47.173396: I tensorflow/stream_executor/cuda/cuda_diagnostics.cc:169] retrieving CUDA diagnostic information for host: alp\n",
      "2022-08-19 11:25:47.173404: I tensorflow/stream_executor/cuda/cuda_diagnostics.cc:176] hostname: alp\n",
      "2022-08-19 11:25:47.173464: I tensorflow/stream_executor/cuda/cuda_diagnostics.cc:200] libcuda reported version is: NOT_FOUND: was unable to find libcuda.so DSO loaded into this program\n",
      "2022-08-19 11:25:47.173505: I tensorflow/stream_executor/cuda/cuda_diagnostics.cc:204] kernel reported version is: 515.65.1\n",
      "2022-08-19 11:25:47.173975: I tensorflow/core/platform/cpu_feature_guard.cc:193] This TensorFlow binary is optimized with oneAPI Deep Neural Network Library (oneDNN) to use the following CPU instructions in performance-critical operations:  AVX2 FMA\n",
      "To enable them in other operations, rebuild TensorFlow with the appropriate compiler flags.\n",
      "2022-08-19 11:25:47.190983: W tensorflow/core/framework/cpu_allocator_impl.cc:82] Allocation of 36864000 exceeds 10% of free system memory.\n",
      "2022-08-19 11:25:47.206458: W tensorflow/core/framework/cpu_allocator_impl.cc:82] Allocation of 36864000 exceeds 10% of free system memory.\n",
      "2022-08-19 11:25:47.213516: W tensorflow/core/framework/cpu_allocator_impl.cc:82] Allocation of 36864000 exceeds 10% of free system memory.\n"
     ]
    },
    {
     "name": "stdout",
     "output_type": "stream",
     "text": [
      "Epoch 1/5\n"
     ]
    },
    {
     "name": "stderr",
     "output_type": "stream",
     "text": [
      "2022-08-19 11:25:48.024141: W tensorflow/core/framework/cpu_allocator_impl.cc:82] Allocation of 614400000 exceeds 10% of free system memory.\n",
      "2022-08-19 11:25:48.529613: W tensorflow/core/framework/cpu_allocator_impl.cc:82] Allocation of 36864000 exceeds 10% of free system memory.\n"
     ]
    },
    {
     "name": "stdout",
     "output_type": "stream",
     "text": [
      "391/391 [==============================] - 37s 94ms/step - loss: 2.1036 - accuracy: 0.1933\n",
      "Epoch 2/5\n",
      "391/391 [==============================] - 37s 95ms/step - loss: 1.8243 - accuracy: 0.3331\n",
      "Epoch 3/5\n",
      "391/391 [==============================] - 34s 87ms/step - loss: 1.7120 - accuracy: 0.3803\n",
      "Epoch 4/5\n",
      "391/391 [==============================] - 35s 88ms/step - loss: 1.6318 - accuracy: 0.4125\n",
      "Epoch 5/5\n",
      "391/391 [==============================] - 34s 88ms/step - loss: 1.5710 - accuracy: 0.4349\n"
     ]
    },
    {
     "data": {
      "text/plain": [
       "<keras.callbacks.History at 0x7fcc0ff4ffd0>"
      ]
     },
     "execution_count": 12,
     "metadata": {},
     "output_type": "execute_result"
    }
   ],
   "source": [
    "model=kr.Sequential([kr.layers.Flatten(input_shape=(32,32,3)),\n",
    "                     kr.layers.Dense(3000,input_shape=(32*32*3,),activation='relu'),\n",
    "                     kr.layers.Dense(1000,input_shape=(3000,),activation='relu'),\n",
    "                     kr.layers.Dense(500,input_shape=(1000,),activation='relu'),\n",
    "                     kr.layers.Dense(250,input_shape=(500,),activation='relu'),\n",
    "                     kr.layers.Dense(125,input_shape=(250,),activation='relu'),\n",
    "                     kr.layers.Dense(50,input_shape=(125,),activation='relu'),\n",
    "                     kr.layers.Dense(30,input_shape=(50,),activation='relu'),\n",
    "                     kr.layers.Dense(10,input_shape=(30,),activation='sigmoid')])\n",
    "tb_callback=tf.keras.callbacks.TensorBoard(log_dir='logs/cnn_cifar10/adam',histogram_freq=1)\n",
    "model.compile(optimizer='adam',\n",
    "              loss='categorical_crossentropy',\n",
    "              metrics=['accuracy'])\n",
    "model.fit(X_train,Y_cat,epochs=5,batch_size=128,callbacks=[tb_callback])"
   ]
  },
  {
   "cell_type": "code",
   "execution_count": 18,
   "id": "63548f90",
   "metadata": {},
   "outputs": [
    {
     "name": "stdout",
     "output_type": "stream",
     "text": [
      "Epoch 1/5\n",
      "391/391 [==============================] - 30s 77ms/step - loss: 2.1155 - accuracy: 0.2369\n",
      "Epoch 2/5\n",
      "391/391 [==============================] - 28s 72ms/step - loss: 1.8693 - accuracy: 0.3304\n",
      "Epoch 3/5\n",
      "391/391 [==============================] - 33s 85ms/step - loss: 1.7598 - accuracy: 0.3724\n",
      "Epoch 4/5\n",
      "391/391 [==============================] - 32s 82ms/step - loss: 1.6900 - accuracy: 0.3963\n",
      "Epoch 5/5\n",
      "391/391 [==============================] - 29s 75ms/step - loss: 1.6396 - accuracy: 0.4169\n"
     ]
    },
    {
     "data": {
      "text/plain": [
       "<keras.callbacks.History at 0x7ff8807f75e0>"
      ]
     },
     "execution_count": 18,
     "metadata": {},
     "output_type": "execute_result"
    }
   ],
   "source": [
    "model=kr.Sequential([kr.layers.Flatten(input_shape=(32,32,3)),\n",
    "                     kr.layers.Dense(3000,input_shape=(32*32*3,),activation='relu'),\n",
    "                     kr.layers.Dense(1000,input_shape=(3000,),activation='relu'),\n",
    "                     kr.layers.Dense(500,input_shape=(1000,),activation='relu'),\n",
    "                     kr.layers.Dense(250,input_shape=(500,),activation='relu'),\n",
    "                     kr.layers.Dense(125,input_shape=(250,),activation='relu'),\n",
    "                     kr.layers.Dense(50,input_shape=(125,),activation='relu'),\n",
    "                     kr.layers.Dense(30,input_shape=(50,),activation='relu'),\n",
    "                     kr.layers.Dense(10,input_shape=(30,),activation='sigmoid')])\n",
    "tb_callback=tf.keras.callbacks.TensorBoard(log_dir='logs/cnn_cifar10/sgd',histogram_freq=1)\n",
    "model.compile(optimizer='SGD',\n",
    "              loss='categorical_crossentropy',\n",
    "              metrics=['accuracy'])\n",
    "model.fit(X_train,Y_cat,epochs=5,batch_size=128,callbacks=[tb_callback])"
   ]
  },
  {
   "cell_type": "code",
   "execution_count": 19,
   "id": "d5bd07d4",
   "metadata": {},
   "outputs": [
    {
     "name": "stdout",
     "output_type": "stream",
     "text": [
      "Epoch 1/5\n",
      "391/391 [==============================] - 57s 144ms/step - loss: 2.2344 - accuracy: 0.1879\n",
      "Epoch 2/5\n",
      "391/391 [==============================] - 58s 147ms/step - loss: 1.9188 - accuracy: 0.3036\n",
      "Epoch 3/5\n",
      "391/391 [==============================] - 58s 148ms/step - loss: 1.8261 - accuracy: 0.3405\n",
      "Epoch 4/5\n",
      "391/391 [==============================] - 59s 152ms/step - loss: 1.7489 - accuracy: 0.3735\n",
      "Epoch 5/5\n",
      "391/391 [==============================] - 58s 148ms/step - loss: 1.6899 - accuracy: 0.3962\n"
     ]
    },
    {
     "data": {
      "text/plain": [
       "<keras.callbacks.History at 0x7ff8807938e0>"
      ]
     },
     "execution_count": 19,
     "metadata": {},
     "output_type": "execute_result"
    }
   ],
   "source": [
    "model=kr.Sequential([kr.layers.Flatten(input_shape=(32,32,3)),\n",
    "                     kr.layers.Dense(3000,input_shape=(32*32*3,),activation='relu'),\n",
    "                     kr.layers.Dense(1000,input_shape=(3000,),activation='relu'),\n",
    "                     kr.layers.Dense(500,input_shape=(1000,),activation='relu'),\n",
    "                     kr.layers.Dense(250,input_shape=(500,),activation='relu'),\n",
    "                     kr.layers.Dense(125,input_shape=(250,),activation='relu'),\n",
    "                     kr.layers.Dense(50,input_shape=(125,),activation='relu'),\n",
    "                     kr.layers.Dense(30,input_shape=(50,),activation='relu'),\n",
    "                     kr.layers.Dense(10,input_shape=(30,),activation='sigmoid')])\n",
    "tb_callback=tf.keras.callbacks.TensorBoard(log_dir='logs/cnn_cifar10/rms',histogram_freq=1)\n",
    "model.compile(optimizer='rmsprop',\n",
    "              loss='categorical_crossentropy',\n",
    "              metrics=['accuracy'])\n",
    "model.fit(X_train,Y_cat,epochs=5,batch_size=128,callbacks=[tb_callback])"
   ]
  },
  {
   "cell_type": "code",
   "execution_count": null,
   "id": "f77c0fc8",
   "metadata": {},
   "outputs": [
    {
     "name": "stdout",
     "output_type": "stream",
     "text": [
      "Epoch 1/50\n",
      "98/98 [==============================] - 52s 521ms/step - loss: 1.9360 - accuracy: 0.2676\n",
      "Epoch 2/50\n",
      "98/98 [==============================] - ETA: 0s - loss: 1.4294 - accuracy: 0.4748"
     ]
    }
   ],
   "source": [
    "model=kr.Sequential([kr.layers.Conv2D(filters=32,kernel_size=(3,3),padding='same',strides=(1,1),activation='relu',input_shape=(32,32,3)),\n",
    "                     kr.layers.MaxPool2D((2,2)),\n",
    "                     kr.layers.Conv2D(filters=64,kernel_size=(3,3),activation='relu'),\n",
    "                     kr.layers.MaxPool2D((2,2)),\n",
    "                     kr.layers.Flatten(),\n",
    "                     kr.layers.Dense(3000,input_shape=(32*32*3,),activation='relu'),\n",
    "                     kr.layers.Dense(1000,input_shape=(3000,),activation='relu'),\n",
    "                     kr.layers.Dense(500,input_shape=(1000,),activation='relu'),\n",
    "                     kr.layers.Dense(250,input_shape=(500,),activation='relu'),\n",
    "                     kr.layers.Dense(125,input_shape=(250,),activation='relu'),\n",
    "                     kr.layers.Dense(50,input_shape=(125,),activation='relu'),\n",
    "                     kr.layers.Dense(30,input_shape=(50,),activation='relu'),\n",
    "                     kr.layers.Dense(10,input_shape=(30,),activation='sigmoid')])\n",
    "tb_callback=tf.keras.callbacks.TensorBoard(log_dir='logs/cnn_cifar10/adam_cnn_50',histogram_freq=1)\n",
    "model.compile(optimizer='adam',\n",
    "              loss='categorical_crossentropy',\n",
    "              metrics=['accuracy'])\n",
    "model.fit(X_train,Y_cat,epochs=50,batch_size=512,callbacks=[tb_callback])"
   ]
  },
  {
   "cell_type": "code",
   "execution_count": null,
   "id": "a546699d",
   "metadata": {},
   "outputs": [
    {
     "name": "stdout",
     "output_type": "stream",
     "text": [
      "Epoch 1/5\n",
      "391/391 [==============================] - ETA: 0s - loss: 2.2720 - accuracy: 0.1474"
     ]
    }
   ],
   "source": [
    "model=kr.Sequential([kr.layers.Conv2D(filters=32,kernel_size=(3,3),activation='relu',input_shape=(32,32,3)),\n",
    "                     kr.layers.MaxPool2D((2,2)),\n",
    "                     kr.layers.Conv2D(filters=64,kernel_size=(3,3),activation='relu'),\n",
    "                     kr.layers.MaxPool2D((2,2)),\n",
    "                     kr.layers.Flatten(),\n",
    "                     kr.layers.Dense(3000,input_shape=(32*32*3,),activation='relu'),\n",
    "                     kr.layers.Dense(1000,input_shape=(3000,),activation='relu'),\n",
    "                     kr.layers.Dense(500,input_shape=(1000,),activation='relu'),\n",
    "                     kr.layers.Dense(250,input_shape=(500,),activation='relu'),\n",
    "                     kr.layers.Dense(125,input_shape=(250,),activation='relu'),\n",
    "                     kr.layers.Dense(50,input_shape=(125,),activation='relu'),\n",
    "                     kr.layers.Dense(30,input_shape=(50,),activation='relu'),\n",
    "                     kr.layers.Dense(10,input_shape=(30,),activation='sigmoid')])\n",
    "tb_callback=tf.keras.callbacks.TensorBoard(log_dir='logs/cnn_cifar10/sgd_cnn',histogram_freq=1)\n",
    "model.compile(optimizer='SGD',\n",
    "              loss='categorical_crossentropy',\n",
    "              metrics=['accuracy'])\n",
    "model.fit(X_train,Y_cat,epochs=5,batch_size=128,callbacks=[tb_callback])"
   ]
  },
  {
   "cell_type": "code",
   "execution_count": 13,
   "id": "651e7042",
   "metadata": {},
   "outputs": [
    {
     "name": "stdout",
     "output_type": "stream",
     "text": [
      "Epoch 1/50\n",
      "391/391 [==============================] - 64s 161ms/step - loss: 1.8994 - accuracy: 0.2911\n",
      "Epoch 2/50\n",
      "391/391 [==============================] - 63s 161ms/step - loss: 1.3519 - accuracy: 0.5249\n",
      "Epoch 3/50\n",
      "391/391 [==============================] - 66s 169ms/step - loss: 1.0630 - accuracy: 0.6358\n",
      "Epoch 4/50\n",
      "391/391 [==============================] - 68s 174ms/step - loss: 0.8539 - accuracy: 0.7110\n",
      "Epoch 5/50\n",
      "391/391 [==============================] - 69s 176ms/step - loss: 0.6709 - accuracy: 0.7743\n",
      "Epoch 6/50\n",
      "391/391 [==============================] - 69s 175ms/step - loss: 0.5183 - accuracy: 0.8276\n",
      "Epoch 7/50\n",
      "391/391 [==============================] - 70s 179ms/step - loss: 0.3852 - accuracy: 0.8741\n",
      "Epoch 8/50\n",
      "391/391 [==============================] - 69s 178ms/step - loss: 0.2939 - accuracy: 0.9061\n",
      "Epoch 9/50\n",
      "391/391 [==============================] - 70s 179ms/step - loss: 0.2376 - accuracy: 0.9275\n",
      "Epoch 10/50\n",
      "391/391 [==============================] - 70s 180ms/step - loss: 0.1935 - accuracy: 0.9429\n",
      "Epoch 11/50\n",
      "391/391 [==============================] - 65s 167ms/step - loss: 0.1648 - accuracy: 0.9528\n",
      "Epoch 12/50\n",
      "391/391 [==============================] - 65s 166ms/step - loss: 0.1430 - accuracy: 0.9609\n",
      "Epoch 13/50\n",
      "391/391 [==============================] - 64s 164ms/step - loss: 0.1301 - accuracy: 0.9653\n",
      "Epoch 14/50\n",
      "391/391 [==============================] - 71s 182ms/step - loss: 0.1171 - accuracy: 0.9693\n",
      "Epoch 15/50\n",
      "391/391 [==============================] - 69s 176ms/step - loss: 0.1139 - accuracy: 0.9705\n",
      "Epoch 16/50\n",
      "391/391 [==============================] - 65s 167ms/step - loss: 0.1088 - accuracy: 0.9728\n",
      "Epoch 17/50\n",
      "391/391 [==============================] - 70s 179ms/step - loss: 0.1015 - accuracy: 0.9754\n",
      "Epoch 18/50\n",
      "391/391 [==============================] - 68s 175ms/step - loss: 0.1001 - accuracy: 0.9776\n",
      "Epoch 19/50\n",
      "391/391 [==============================] - 67s 171ms/step - loss: 0.1029 - accuracy: 0.9769\n",
      "Epoch 20/50\n",
      "391/391 [==============================] - 65s 165ms/step - loss: 0.1088 - accuracy: 0.9748\n",
      "Epoch 21/50\n",
      "391/391 [==============================] - 69s 176ms/step - loss: 0.0960 - accuracy: 0.9790\n",
      "Epoch 22/50\n",
      "391/391 [==============================] - 68s 175ms/step - loss: 0.1227 - accuracy: 0.9760\n",
      "Epoch 23/50\n",
      "391/391 [==============================] - 66s 170ms/step - loss: 0.1161 - accuracy: 0.9755\n",
      "Epoch 24/50\n",
      "391/391 [==============================] - 65s 166ms/step - loss: 0.1187 - accuracy: 0.9742\n",
      "Epoch 25/50\n",
      "391/391 [==============================] - 61s 157ms/step - loss: 0.1275 - accuracy: 0.9747\n",
      "Epoch 26/50\n",
      "391/391 [==============================] - 61s 157ms/step - loss: 0.1440 - accuracy: 0.9744\n",
      "Epoch 27/50\n",
      "391/391 [==============================] - 61s 157ms/step - loss: 0.1345 - accuracy: 0.9722\n",
      "Epoch 28/50\n",
      "391/391 [==============================] - 62s 158ms/step - loss: 0.1361 - accuracy: 0.9738\n",
      "Epoch 29/50\n",
      "391/391 [==============================] - 62s 158ms/step - loss: 0.1299 - accuracy: 0.9761\n",
      "Epoch 30/50\n",
      "391/391 [==============================] - 60s 154ms/step - loss: 0.1731 - accuracy: 0.9668\n",
      "Epoch 31/50\n",
      "391/391 [==============================] - 60s 153ms/step - loss: 0.1393 - accuracy: 0.9722\n",
      "Epoch 32/50\n",
      "391/391 [==============================] - 60s 154ms/step - loss: 0.1367 - accuracy: 0.9764\n",
      "Epoch 33/50\n",
      "391/391 [==============================] - 60s 154ms/step - loss: 0.1326 - accuracy: 0.9767\n",
      "Epoch 34/50\n",
      "391/391 [==============================] - 60s 153ms/step - loss: 0.1458 - accuracy: 0.9728\n",
      "Epoch 35/50\n",
      "391/391 [==============================] - 60s 153ms/step - loss: 0.1706 - accuracy: 0.9679\n",
      "Epoch 36/50\n",
      "391/391 [==============================] - 60s 153ms/step - loss: 0.2015 - accuracy: 0.9663\n",
      "Epoch 37/50\n",
      "391/391 [==============================] - 60s 153ms/step - loss: 0.1434 - accuracy: 0.9717\n",
      "Epoch 38/50\n",
      "391/391 [==============================] - 60s 154ms/step - loss: 0.1501 - accuracy: 0.9705\n",
      "Epoch 39/50\n",
      "391/391 [==============================] - 60s 153ms/step - loss: 0.1957 - accuracy: 0.9641\n",
      "Epoch 40/50\n",
      "391/391 [==============================] - 60s 154ms/step - loss: 0.1516 - accuracy: 0.9687\n",
      "Epoch 41/50\n",
      "391/391 [==============================] - 60s 154ms/step - loss: 0.2353 - accuracy: 0.9598\n",
      "Epoch 42/50\n",
      "391/391 [==============================] - 61s 155ms/step - loss: 0.1616 - accuracy: 0.9689\n",
      "Epoch 43/50\n",
      "391/391 [==============================] - 60s 155ms/step - loss: 0.1951 - accuracy: 0.9674\n",
      "Epoch 44/50\n",
      "391/391 [==============================] - 60s 154ms/step - loss: 0.1778 - accuracy: 0.9671\n",
      "Epoch 45/50\n",
      "391/391 [==============================] - 60s 154ms/step - loss: 0.1841 - accuracy: 0.9655\n",
      "Epoch 46/50\n",
      "391/391 [==============================] - 60s 154ms/step - loss: 0.2540 - accuracy: 0.9506\n",
      "Epoch 47/50\n",
      "391/391 [==============================] - 61s 155ms/step - loss: 0.1843 - accuracy: 0.9628\n",
      "Epoch 48/50\n",
      "391/391 [==============================] - 60s 154ms/step - loss: 0.1614 - accuracy: 0.9720\n",
      "Epoch 49/50\n",
      "391/391 [==============================] - 60s 154ms/step - loss: 0.1599 - accuracy: 0.9713\n",
      "Epoch 50/50\n",
      "391/391 [==============================] - 60s 154ms/step - loss: 0.1743 - accuracy: 0.9700\n"
     ]
    },
    {
     "data": {
      "text/plain": [
       "<keras.callbacks.History at 0x7fcc0fdaba30>"
      ]
     },
     "execution_count": 13,
     "metadata": {},
     "output_type": "execute_result"
    }
   ],
   "source": [
    "model=kr.Sequential([kr.layers.Conv2D(filters=32,kernel_size=(3,3),activation='relu',input_shape=(32,32,3)),\n",
    "                     kr.layers.MaxPool2D((2,2)),\n",
    "                     kr.layers.Conv2D(filters=64,kernel_size=(3,3),activation='relu'),\n",
    "                     kr.layers.MaxPool2D((2,2)),\n",
    "                     kr.layers.Flatten(),\n",
    "                     kr.layers.Dense(3000,input_shape=(32*32*3,),activation='relu'),\n",
    "                     kr.layers.Dense(1000,input_shape=(3000,),activation='relu'),\n",
    "                     kr.layers.Dense(500,input_shape=(1000,),activation='relu'),\n",
    "                     kr.layers.Dense(250,input_shape=(500,),activation='relu'),\n",
    "                     kr.layers.Dense(125,input_shape=(250,),activation='relu'),\n",
    "                     kr.layers.Dense(50,input_shape=(125,),activation='relu'),\n",
    "                     kr.layers.Dense(30,input_shape=(50,),activation='relu'),\n",
    "                     kr.layers.Dense(10,input_shape=(30,),activation='sigmoid')])\n",
    "tb_callback=tf.keras.callbacks.TensorBoard(log_dir='logs/cnn_cifar10/rms_cnn_50',histogram_freq=1)\n",
    "model.compile(optimizer='rmsprop',\n",
    "              loss='categorical_crossentropy',\n",
    "              metrics=['accuracy'])\n",
    "model.fit(X_train,Y_cat,epochs=50,batch_size=128,callbacks=[tb_callback])"
   ]
  }
 ],
 "metadata": {
  "kernelspec": {
   "display_name": "dlenv",
   "language": "python",
   "name": "dlenv"
  },
  "language_info": {
   "codemirror_mode": {
    "name": "ipython",
    "version": 3
   },
   "file_extension": ".py",
   "mimetype": "text/x-python",
   "name": "python",
   "nbconvert_exporter": "python",
   "pygments_lexer": "ipython3",
   "version": "3.10.4"
  }
 },
 "nbformat": 4,
 "nbformat_minor": 5
}
